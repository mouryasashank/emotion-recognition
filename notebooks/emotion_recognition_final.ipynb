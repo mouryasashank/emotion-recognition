{
  "nbformat": 4,
  "nbformat_minor": 0,
  "metadata": {
    "kernelspec": {
      "display_name": "Python 3",
      "language": "python",
      "name": "python3"
    },
    "language_info": {
      "codemirror_mode": {
        "name": "ipython",
        "version": 3
      },
      "file_extension": ".py",
      "mimetype": "text/x-python",
      "name": "python",
      "nbconvert_exporter": "python",
      "pygments_lexer": "ipython3",
      "version": "3.7.9"
    },
    "papermill": {
      "default_parameters": {},
      "duration": 3811.061614,
      "end_time": "2021-02-19T10:53:08.470639",
      "environment_variables": {},
      "exception": null,
      "input_path": "__notebook__.ipynb",
      "output_path": "__notebook__.ipynb",
      "parameters": {},
      "start_time": "2021-02-19T09:49:37.409025",
      "version": "2.2.2"
    },
    "colab": {
      "name": "emotion recognition final.ipynb",
      "provenance": []
    }
  },
  "cells": [
    {
      "cell_type": "code",
      "metadata": {
        "_cell_guid": "b1076dfc-b9ad-4769-8c92-a6c4dae69d19",
        "_uuid": "8f2839f25d086af736a60e9eeb907d3b93b6e0e5",
        "execution": {
          "iopub.execute_input": "2021-02-19T09:49:42.752251Z",
          "iopub.status.busy": "2021-02-19T09:49:42.751506Z",
          "iopub.status.idle": "2021-02-19T09:49:42.755030Z",
          "shell.execute_reply": "2021-02-19T09:49:42.754338Z"
        },
        "papermill": {
          "duration": 0.026172,
          "end_time": "2021-02-19T09:49:42.755208",
          "exception": false,
          "start_time": "2021-02-19T09:49:42.729036",
          "status": "completed"
        },
        "tags": [],
        "id": "Am3jCGiSUF1X"
      },
      "source": [
        "# This Python 3 environment comes with many helpful analytics libraries installed\n",
        "# It is defined by the kaggle/python Docker image: https://github.com/kaggle/docker-python\n",
        "# For example, here's several helpful packages to load\n",
        "\n",
        "import numpy as np # linear algebra\n",
        "import pandas as pd # data processing, CSV file I/O (e.g. pd.read_csv)\n",
        "\n",
        "# Input data files are available in the read-only \"../input/\" directory\n",
        "# For example, running this (by clicking run or pressing Shift+Enter) will list all files under the input directory\n",
        "\n",
        "import os\n",
        "for dirname, _, filenames in os.walk('/kaggle/input'):\n",
        "    for filename in filenames:\n",
        "        print(os.path.join(dirname, filename))\n",
        "\n",
        "# You can write up to 20GB to the current directory (/kaggle/working/) that gets preserved as output when you create a version using \"Save & Run All\" \n",
        "# You can also write temporary files to /kaggle/temp/, but they won't be saved outside of the current session"
      ],
      "execution_count": null,
      "outputs": []
    },
    {
      "cell_type": "code",
      "metadata": {
        "execution": {
          "iopub.execute_input": "2021-02-19T09:49:42.792141Z",
          "iopub.status.busy": "2021-02-19T09:49:42.791446Z",
          "iopub.status.idle": "2021-02-19T09:50:03.671281Z",
          "shell.execute_reply": "2021-02-19T09:50:03.670799Z"
        },
        "papermill": {
          "duration": 20.899966,
          "end_time": "2021-02-19T09:50:03.671428",
          "exception": false,
          "start_time": "2021-02-19T09:49:42.771462",
          "status": "completed"
        },
        "tags": [],
        "id": "lTuSdil7UF1a",
        "outputId": "fd8c1d8a-f596-424f-bcf6-f1f4b7995dc1"
      },
      "source": [
        "!git clone https://github.com/saisriteja/audio_visual_work"
      ],
      "execution_count": null,
      "outputs": [
        {
          "output_type": "stream",
          "text": [
            "Cloning into 'audio_visual_work'...\r\n",
            "remote: Enumerating objects: 627, done.\u001b[K\r\n",
            "remote: Counting objects: 100% (627/627), done.\u001b[K\r\n",
            "remote: Compressing objects: 100% (625/625), done.\u001b[K\r\n",
            "remote: Total 1483 (delta 4), reused 595 (delta 0), pack-reused 856\u001b[K\r\n",
            "Receiving objects: 100% (1483/1483), 304.15 MiB | 25.35 MiB/s, done.\r\n",
            "Resolving deltas: 100% (4/4), done.\r\n",
            "Checking out files: 100% (982/982), done.\r\n"
          ],
          "name": "stdout"
        }
      ]
    },
    {
      "cell_type": "code",
      "metadata": {
        "execution": {
          "iopub.execute_input": "2021-02-19T09:50:03.812230Z",
          "iopub.status.busy": "2021-02-19T09:50:03.811460Z",
          "iopub.status.idle": "2021-02-19T09:50:04.470263Z",
          "shell.execute_reply": "2021-02-19T09:50:04.469421Z"
        },
        "papermill": {
          "duration": 0.730955,
          "end_time": "2021-02-19T09:50:04.470507",
          "exception": false,
          "start_time": "2021-02-19T09:50:03.739552",
          "status": "completed"
        },
        "tags": [],
        "id": "fFDd3SL3UF1b",
        "outputId": "e3ae9ad2-6392-4515-b53a-0a4dd281bf1e"
      },
      "source": [
        "ls"
      ],
      "execution_count": null,
      "outputs": [
        {
          "output_type": "stream",
          "text": [
            "__notebook__.ipynb  \u001b[0m\u001b[01;34maudio_visual_work\u001b[0m/\r\n"
          ],
          "name": "stdout"
        }
      ]
    },
    {
      "cell_type": "code",
      "metadata": {
        "execution": {
          "iopub.execute_input": "2021-02-19T09:50:04.629553Z",
          "iopub.status.busy": "2021-02-19T09:50:04.628275Z",
          "iopub.status.idle": "2021-02-19T09:50:04.630604Z",
          "shell.execute_reply": "2021-02-19T09:50:04.630112Z"
        },
        "papermill": {
          "duration": 0.075808,
          "end_time": "2021-02-19T09:50:04.630748",
          "exception": false,
          "start_time": "2021-02-19T09:50:04.554940",
          "status": "completed"
        },
        "tags": [],
        "id": "GCzldkbIUF1c"
      },
      "source": [
        "import os\n",
        "# os.getcwd()\n",
        "\n",
        "current_dir = os.getcwd()"
      ],
      "execution_count": null,
      "outputs": []
    },
    {
      "cell_type": "code",
      "metadata": {
        "execution": {
          "iopub.execute_input": "2021-02-19T09:50:04.781637Z",
          "iopub.status.busy": "2021-02-19T09:50:04.780665Z",
          "iopub.status.idle": "2021-02-19T09:50:04.785121Z",
          "shell.execute_reply": "2021-02-19T09:50:04.785883Z"
        },
        "papermill": {
          "duration": 0.087445,
          "end_time": "2021-02-19T09:50:04.786080",
          "exception": false,
          "start_time": "2021-02-19T09:50:04.698635",
          "status": "completed"
        },
        "tags": [],
        "id": "iUW705DVUF1c",
        "outputId": "78d5a251-e642-4532-af1e-9180e9fd6ca5"
      },
      "source": [
        "current_dir"
      ],
      "execution_count": null,
      "outputs": [
        {
          "output_type": "execute_result",
          "data": {
            "text/plain": [
              "'/kaggle/working'"
            ]
          },
          "metadata": {
            "tags": []
          },
          "execution_count": 5
        }
      ]
    },
    {
      "cell_type": "code",
      "metadata": {
        "execution": {
          "iopub.execute_input": "2021-02-19T09:50:05.003960Z",
          "iopub.status.busy": "2021-02-19T09:50:05.003032Z",
          "iopub.status.idle": "2021-02-19T09:50:11.250626Z",
          "shell.execute_reply": "2021-02-19T09:50:11.250103Z"
        },
        "papermill": {
          "duration": 6.357234,
          "end_time": "2021-02-19T09:50:11.250793",
          "exception": false,
          "start_time": "2021-02-19T09:50:04.893559",
          "status": "completed"
        },
        "tags": [],
        "id": "18UcNezaUF1d",
        "outputId": "a310236c-d5f1-4d74-896d-0a9079bd4e1f"
      },
      "source": [
        "# %tensorflow_version 1.x\n",
        "\n",
        "from keras.layers import Conv3D, MaxPool3D, Flatten, Dense, Conv2D, Activation, add, Reshape, Bidirectional\n",
        "from keras.layers import Dropout, Input, BatchNormalization, Concatenate\n",
        "from sklearn.metrics import confusion_matrix, accuracy_score\n",
        "from plotly.offline import iplot, init_notebook_mode\n",
        "from keras.losses import categorical_crossentropy\n",
        "from keras.optimizers import Adadelta\n",
        "import plotly.graph_objs as go\n",
        "from matplotlib.pyplot import cm\n",
        "from keras.models import Model\n",
        "import numpy as np\n",
        "import keras\n",
        "import h5py\n",
        "from keras.models import Sequential\n",
        "from keras import optimizers\n",
        "from keras.metrics import categorical_accuracy\n",
        "from glob import glob\n",
        "from keras.utils import to_categorical\n",
        "import numpy as np\n",
        "from keras.utils import np_utils\n",
        "import os\n",
        "import cv2\n",
        "import pickle\n",
        "from random import shuffle\n",
        "init_notebook_mode(connected=True)"
      ],
      "execution_count": null,
      "outputs": [
        {
          "output_type": "display_data",
          "data": {
            "text/html": [
              "        <script type=\"text/javascript\">\n",
              "        window.PlotlyConfig = {MathJaxConfig: 'local'};\n",
              "        if (window.MathJax) {MathJax.Hub.Config({SVG: {font: \"STIX-Web\"}});}\n",
              "        if (typeof require !== 'undefined') {\n",
              "        require.undef(\"plotly\");\n",
              "        requirejs.config({\n",
              "            paths: {\n",
              "                'plotly': ['https://cdn.plot.ly/plotly-latest.min']\n",
              "            }\n",
              "        });\n",
              "        require(['plotly'], function(Plotly) {\n",
              "            window._Plotly = Plotly;\n",
              "        });\n",
              "        }\n",
              "        </script>\n",
              "        "
            ]
          },
          "metadata": {
            "tags": []
          }
        }
      ]
    },
    {
      "cell_type": "code",
      "metadata": {
        "execution": {
          "iopub.execute_input": "2021-02-19T09:50:11.402344Z",
          "iopub.status.busy": "2021-02-19T09:50:11.401501Z",
          "iopub.status.idle": "2021-02-19T09:50:11.403942Z",
          "shell.execute_reply": "2021-02-19T09:50:11.404483Z"
        },
        "papermill": {
          "duration": 0.085341,
          "end_time": "2021-02-19T09:50:11.404643",
          "exception": false,
          "start_time": "2021-02-19T09:50:11.319302",
          "status": "completed"
        },
        "tags": [],
        "id": "eTphVZbQUF1e"
      },
      "source": [
        "def get_category(f):\n",
        "    # print(f)\n",
        "        \n",
        "    if f[0] == 'a':\n",
        "        return(0)\n",
        "        \n",
        "    elif f[0] == 'd':\n",
        "        return(1)\n",
        "        \n",
        "    elif f[0] == 'n':\n",
        "        return(2)\n",
        "        \n",
        "    elif f[0] == 'h':\n",
        "        return(3)\n",
        "    \n",
        "    elif f[0] == 'f':\n",
        "        return(4)\n",
        "        \n",
        "    elif f[0:2] == 'su':\n",
        "        return(5)\n",
        "        \n",
        "    elif f[0:2] == 'sa':\n",
        "        return(6)\n",
        "\n",
        "def load_obj(name ):\n",
        "    # print(name)\n",
        "    with open(name , 'rb') as f:\n",
        "        return pickle.load(f)\n",
        "\n",
        "# files = glob('/content/audio_visual_work/data_video/DC*')\n",
        "\n",
        "def get_train_test_val(person):\n",
        "    f = {'a':[],\n",
        "        'd':[],\n",
        "        'sa':[],\n",
        "        'su':[],\n",
        "        'n':[],\n",
        "        'h':[],\n",
        "        'f':[]}\n",
        "\n",
        "    # for i in list(f.keys()):\n",
        "      #  print(glob(f'/content/audio_visual_work/data_video/DC_{i}*'))\n",
        "      # f[i] = glob(f'/content/audio_visual_work/data_video/{person}_{i}*')\n",
        "    for i in list(f.keys()):\n",
        "        if i != 'n':\n",
        "            f[i] = [f'/kaggle/working/audio_visual_work/data_video/{person}_{i}{no+1}' for no in range(15)]\n",
        "        if i == 'n':\n",
        "            f[i] = [f'/kaggle/working/audio_visual_work/data_video/{person}_{i}{no+1}' for no in range(30)]\n",
        "\n",
        "\n",
        "    train = []\n",
        "    test = []\n",
        "    val = []\n",
        "\n",
        "\n",
        "    for i in list(f.keys()):\n",
        "      \n",
        "      shuffle(f[i])\n",
        "\n",
        "      # print('emotion',i,'elements',len(f[i]))\n",
        "\n",
        "      # print(-0+int(0.7*(len(f[i]))) - int(0.7*(len(f[i])))+int(0.8*(len(f[i]))) -int(0.8*(len(f[i])))+int(1*(len(f[i]))))\n",
        "\n",
        "      train.extend(f[i][0:int(0.7*(len(f[i])))])\n",
        "      val.extend(f[i][int(0.7*(len(f[i]))):int(0.8*(len(f[i])))])\n",
        "      test.extend(f[i][int(0.8*(len(f[i]))):])\n",
        "\n",
        "      # print(len(train),len(test),len(val))\n",
        "\n",
        "    return (sorted(set(train)),sorted(set(test)),sorted(set(val)))"
      ],
      "execution_count": null,
      "outputs": []
    },
    {
      "cell_type": "code",
      "metadata": {
        "execution": {
          "iopub.execute_input": "2021-02-19T09:50:11.549014Z",
          "iopub.status.busy": "2021-02-19T09:50:11.548194Z",
          "iopub.status.idle": "2021-02-19T09:50:11.550878Z",
          "shell.execute_reply": "2021-02-19T09:50:11.550338Z"
        },
        "papermill": {
          "duration": 0.077021,
          "end_time": "2021-02-19T09:50:11.550996",
          "exception": false,
          "start_time": "2021-02-19T09:50:11.473975",
          "status": "completed"
        },
        "tags": [],
        "id": "TebUq9UZUF1f"
      },
      "source": [
        "train,test,val = [],[],[]\n",
        "\n",
        "for p in ['DC','KL','JE','JK']:\n",
        "    a,b,c = get_train_test_val(p)\n",
        "    train.extend(a)\n",
        "    test.extend(b)\n",
        "    val.extend(c)\n",
        "    # break"
      ],
      "execution_count": null,
      "outputs": []
    },
    {
      "cell_type": "code",
      "metadata": {
        "execution": {
          "iopub.execute_input": "2021-02-19T09:50:11.691299Z",
          "iopub.status.busy": "2021-02-19T09:50:11.690627Z",
          "iopub.status.idle": "2021-02-19T09:50:12.588159Z",
          "shell.execute_reply": "2021-02-19T09:50:12.587524Z"
        },
        "papermill": {
          "duration": 0.968959,
          "end_time": "2021-02-19T09:50:12.588307",
          "exception": false,
          "start_time": "2021-02-19T09:50:11.619348",
          "status": "completed"
        },
        "tags": [],
        "id": "uvKZbUDBUF1f"
      },
      "source": [
        "import imgaug as ia\n",
        "import imgaug.augmenters as iaa\n",
        "import random"
      ],
      "execution_count": null,
      "outputs": []
    },
    {
      "cell_type": "code",
      "metadata": {
        "execution": {
          "iopub.execute_input": "2021-02-19T09:50:12.742683Z",
          "iopub.status.busy": "2021-02-19T09:50:12.741811Z",
          "iopub.status.idle": "2021-02-19T09:50:12.744570Z",
          "shell.execute_reply": "2021-02-19T09:50:12.744049Z"
        },
        "papermill": {
          "duration": 0.086882,
          "end_time": "2021-02-19T09:50:12.744717",
          "exception": false,
          "start_time": "2021-02-19T09:50:12.657835",
          "status": "completed"
        },
        "tags": [],
        "id": "mrbmVBKQUF1f"
      },
      "source": [
        "\n",
        "facial_path = '/kaggle/working/audio_visual_work/data_video'\n",
        "audio_path = '/kaggle/working/audio_visual_work/data_audio'\n",
        "\n",
        "\n",
        "\n",
        "def agumentation_process(aug_type_no,img):\n",
        "    # the input should be a numpy array of a single 3 channel image\n",
        "\n",
        "    # 1 for flip\n",
        "    # 2 for rotate\n",
        "    # 3 for gaussian noise\n",
        "    # 4 for contrast\n",
        "    # 5 for shearing\n",
        "\n",
        "\n",
        "    if aug_type_no == 1:\n",
        "      flip_hr=iaa.Fliplr(p=1.0)\n",
        "      flip_hr_image= flip_hr.augment_image(img)\n",
        "\n",
        "      return flip_hr_image\n",
        "\n",
        "\n",
        "    if aug_type_no == 2:\n",
        "\n",
        "      n1 = random.randint(-50,50)\n",
        "      n2 = random.randint(-30,30)\n",
        "\n",
        "      rotate=iaa.Affine(rotate=(n1, n2))\n",
        "      rotated_image=rotate.augment_image(img)\n",
        "      return rotated_image\n",
        "\n",
        "    if aug_type_no == 3:\n",
        "            \n",
        "      n1 = random.randint(0,10)\n",
        "      n2 = random.randint(0,20)\n",
        "\n",
        "      gaussian_noise=iaa.AdditiveGaussianNoise(n1,n2)\n",
        "      noise_image=gaussian_noise.augment_image(img)\n",
        "\n",
        "      return noise_image\n",
        "    \n",
        "    if aug_type_no == 4:\n",
        "      \n",
        "      n1 = random.randint(0,4)\n",
        "      contrast=iaa.GammaContrast(gamma=n1)\n",
        "      contrast_image =contrast.augment_image(img)\n",
        "      return contrast_image\n",
        "\n",
        "    if aug_type_no == 5:\n",
        "\n",
        "      n1 = random.randint(10,40)\n",
        "\n",
        "      shear = iaa.Affine(shear=(0,n1))\n",
        "      shear_image=shear.augment_image(img)\n",
        "      return shear_image\n",
        "\n",
        "\n",
        "\n",
        "\n",
        "\n",
        "\n",
        "def data_generator(files, batch_size = 8,agumentation = False):\n",
        "    while(True):\n",
        "        batch_paths  = np.random.choice(a = files, size = batch_size)\n",
        "\n",
        "        batch_facial  = []\n",
        "        batch_audio = []\n",
        "        batch_output = [] \n",
        "\n",
        "        for filename in batch_paths:\n",
        "\n",
        "            # print(filename)\n",
        "\n",
        "            cat = get_category(filename.split('_')[-1])\n",
        "\n",
        "            ff = load_obj(os.path.join(facial_path,filename))\n",
        "\n",
        "            b_f = np.array(ff)\n",
        "\n",
        "\n",
        "            if agumentation:\n",
        "                \n",
        "                    # 1 for flip\n",
        "                    # 2 for rotate\n",
        "                    # 3 for gaussian noise\n",
        "                    # 4 for contrast\n",
        "                    # 5 for shearing\n",
        "\n",
        "              #select a random number for agumentation type\n",
        "              foo = [1,3,4]\n",
        "    \n",
        "              aug_no  = random.choice(foo)\n",
        "\n",
        "              for no,vid in enumerate(b_f):\n",
        "                b_f[no] = agumentation_process(aug_no,vid) \n",
        "            \n",
        "            b_f = b_f/255\n",
        "\n",
        "            batch_facial.append(b_f)\n",
        "\n",
        "            batch_output.append(cat)\n",
        "\n",
        "        # batch_facial = np.expand_dims(batch_facial,axis = 0)\n",
        "        batch_facial = np.array(batch_facial)\n",
        "\n",
        "\n",
        "        batch_output = np.array(batch_output)\n",
        "\n",
        "        yield (batch_facial.astype('float32'),np_utils.to_categorical(batch_output,num_classes=7))\n",
        "\n"
      ],
      "execution_count": null,
      "outputs": []
    },
    {
      "cell_type": "code",
      "metadata": {
        "execution": {
          "iopub.execute_input": "2021-02-19T09:50:12.887386Z",
          "iopub.status.busy": "2021-02-19T09:50:12.886482Z",
          "iopub.status.idle": "2021-02-19T09:50:13.271031Z",
          "shell.execute_reply": "2021-02-19T09:50:13.271501Z"
        },
        "papermill": {
          "duration": 0.458266,
          "end_time": "2021-02-19T09:50:13.271661",
          "exception": false,
          "start_time": "2021-02-19T09:50:12.813395",
          "status": "completed"
        },
        "tags": [],
        "id": "XUp0EPCIUF1g",
        "outputId": "b1cbbd53-e2ab-4266-939e-b69a86294192"
      },
      "source": [
        "train_generator = data_generator(train,batch_size=8,agumentation= True)\n",
        "val_generator = data_generator(val,batch_size=8, agumentation= True)\n",
        "x,y = next(train_generator)\n",
        "x.shape"
      ],
      "execution_count": null,
      "outputs": [
        {
          "output_type": "execute_result",
          "data": {
            "text/plain": [
              "(8, 96, 64, 64, 3)"
            ]
          },
          "metadata": {
            "tags": []
          },
          "execution_count": 11
        }
      ]
    },
    {
      "cell_type": "code",
      "metadata": {
        "execution": {
          "iopub.execute_input": "2021-02-19T09:50:13.418156Z",
          "iopub.status.busy": "2021-02-19T09:50:13.417555Z",
          "iopub.status.idle": "2021-02-19T09:50:16.655951Z",
          "shell.execute_reply": "2021-02-19T09:50:16.654863Z"
        },
        "papermill": {
          "duration": 3.314498,
          "end_time": "2021-02-19T09:50:16.656099",
          "exception": false,
          "start_time": "2021-02-19T09:50:13.341601",
          "status": "completed"
        },
        "tags": [],
        "id": "_CgRACXvUF1h"
      },
      "source": [
        "\n",
        "def get_model():\n",
        "\n",
        "    ## input layer\n",
        "    input_layer = Input((96, 64,64, 3))\n",
        "\n",
        "    ## convolutional layers\n",
        "    conv_layer1 = Conv3D(filters=32, kernel_size=(15, 3, 3), activation='relu')(input_layer)\n",
        "    pooling_layer2 = MaxPool3D(pool_size=(3,3,3))(conv_layer1)\n",
        "    dropout = Dropout(0.4)(pooling_layer2)\n",
        "    flatten_layer = Flatten()(dropout)\n",
        "\n",
        "\n",
        "    dense_layer1 = Dense(units=128, activation='relu')(flatten_layer)\n",
        "    dense_layer1 = Dropout(0.4)(dense_layer1)\n",
        "\n",
        "    output_layer = Dense(units=7, activation='softmax')(dense_layer1)\n",
        "    model = Model(inputs=input_layer, outputs=output_layer)\n",
        "    return model\n",
        "\n",
        "model = get_model()\n"
      ],
      "execution_count": null,
      "outputs": []
    },
    {
      "cell_type": "code",
      "metadata": {
        "execution": {
          "iopub.execute_input": "2021-02-19T09:50:16.811600Z",
          "iopub.status.busy": "2021-02-19T09:50:16.810650Z",
          "iopub.status.idle": "2021-02-19T10:51:40.982568Z",
          "shell.execute_reply": "2021-02-19T10:51:40.981990Z"
        },
        "papermill": {
          "duration": 3684.252642,
          "end_time": "2021-02-19T10:51:40.982738",
          "exception": false,
          "start_time": "2021-02-19T09:50:16.730096",
          "status": "completed"
        },
        "tags": [],
        "id": "-bP7GksPUF1h",
        "outputId": "dd90967e-1dff-4f3a-9d2f-4080680e6db1"
      },
      "source": [
        "my_callbacks = [\n",
        "    keras.callbacks.EarlyStopping(patience=30, monitor=\"val_loss\",min_delta=0.0001,verbose = 1),\n",
        "    keras.callbacks.ModelCheckpoint(filepath='model.h5',verbose = 1,save_best_only=True),\n",
        "    # keras.callbacks.TensorBoard(log_dir='./logs'),\n",
        "    keras.callbacks.ReduceLROnPlateau(monitor=\"val_loss\",factor=0.5,patience=20,cooldown = 1,verbose = 1)\n",
        "]\n",
        "model = get_model()\n",
        "model.compile(loss='categorical_crossentropy',optimizer=optimizers.SGD(lr=1e-4,momentum = 0.9),metrics=['acc'])\n",
        "\n",
        "\n",
        "batch_size = 8\n",
        "history = model.fit_generator(train_generator,\n",
        "                              steps_per_epoch=int(len(train)/batch_size),\n",
        "                              epochs=300,\n",
        "                              validation_data= val_generator,\n",
        "                              validation_steps=len(val)//batch_size,\n",
        "                              callbacks = my_callbacks)"
      ],
      "execution_count": null,
      "outputs": [
        {
          "output_type": "stream",
          "text": [
            "/opt/conda/lib/python3.7/site-packages/tensorflow/python/keras/engine/training.py:1844: UserWarning:\n",
            "\n",
            "`Model.fit_generator` is deprecated and will be removed in a future version. Please use `Model.fit`, which supports generators.\n",
            "\n"
          ],
          "name": "stderr"
        },
        {
          "output_type": "stream",
          "text": [
            "Epoch 1/300\n",
            "40/40 [==============================] - 25s 540ms/step - loss: 1.9552 - acc: 0.2452 - val_loss: 1.9451 - val_acc: 0.2143\n",
            "\n",
            "Epoch 00001: val_loss improved from inf to 1.94506, saving model to model.h5\n",
            "Epoch 2/300\n",
            "40/40 [==============================] - 20s 508ms/step - loss: 1.9713 - acc: 0.2576 - val_loss: 1.9036 - val_acc: 0.2500\n",
            "\n",
            "Epoch 00002: val_loss improved from 1.94506 to 1.90362, saving model to model.h5\n",
            "Epoch 3/300\n",
            "40/40 [==============================] - 21s 527ms/step - loss: 1.9197 - acc: 0.2168 - val_loss: 1.9145 - val_acc: 0.2500\n",
            "\n",
            "Epoch 00003: val_loss did not improve from 1.90362\n",
            "Epoch 4/300\n",
            "40/40 [==============================] - 20s 511ms/step - loss: 1.9131 - acc: 0.2603 - val_loss: 1.9256 - val_acc: 0.1964\n",
            "\n",
            "Epoch 00004: val_loss did not improve from 1.90362\n",
            "Epoch 5/300\n",
            "40/40 [==============================] - 20s 515ms/step - loss: 1.9170 - acc: 0.1893 - val_loss: 1.9225 - val_acc: 0.1964\n",
            "\n",
            "Epoch 00005: val_loss did not improve from 1.90362\n",
            "Epoch 6/300\n",
            "40/40 [==============================] - 21s 524ms/step - loss: 1.8751 - acc: 0.2935 - val_loss: 1.9257 - val_acc: 0.1607\n",
            "\n",
            "Epoch 00006: val_loss did not improve from 1.90362\n",
            "Epoch 7/300\n",
            "40/40 [==============================] - 20s 516ms/step - loss: 1.9341 - acc: 0.2090 - val_loss: 1.8590 - val_acc: 0.2143\n",
            "\n",
            "Epoch 00007: val_loss improved from 1.90362 to 1.85898, saving model to model.h5\n",
            "Epoch 8/300\n",
            "40/40 [==============================] - 20s 504ms/step - loss: 1.8812 - acc: 0.2662 - val_loss: 1.8808 - val_acc: 0.2143\n",
            "\n",
            "Epoch 00008: val_loss did not improve from 1.85898\n",
            "Epoch 9/300\n",
            "40/40 [==============================] - 20s 507ms/step - loss: 1.8574 - acc: 0.2918 - val_loss: 1.8734 - val_acc: 0.1964\n",
            "\n",
            "Epoch 00009: val_loss did not improve from 1.85898\n",
            "Epoch 10/300\n",
            "40/40 [==============================] - 20s 510ms/step - loss: 1.8591 - acc: 0.3026 - val_loss: 1.9521 - val_acc: 0.1071\n",
            "\n",
            "Epoch 00010: val_loss did not improve from 1.85898\n",
            "Epoch 11/300\n",
            "40/40 [==============================] - 20s 521ms/step - loss: 1.8873 - acc: 0.2579 - val_loss: 1.8474 - val_acc: 0.3214\n",
            "\n",
            "Epoch 00011: val_loss improved from 1.85898 to 1.84741, saving model to model.h5\n",
            "Epoch 12/300\n",
            "40/40 [==============================] - 21s 524ms/step - loss: 1.8441 - acc: 0.2848 - val_loss: 1.8544 - val_acc: 0.2143\n",
            "\n",
            "Epoch 00012: val_loss did not improve from 1.84741\n",
            "Epoch 13/300\n",
            "40/40 [==============================] - 20s 504ms/step - loss: 1.8521 - acc: 0.2700 - val_loss: 1.8465 - val_acc: 0.3036\n",
            "\n",
            "Epoch 00013: val_loss improved from 1.84741 to 1.84651, saving model to model.h5\n",
            "Epoch 14/300\n",
            "40/40 [==============================] - 20s 513ms/step - loss: 1.9129 - acc: 0.2188 - val_loss: 1.8150 - val_acc: 0.3036\n",
            "\n",
            "Epoch 00014: val_loss improved from 1.84651 to 1.81502, saving model to model.h5\n",
            "Epoch 15/300\n",
            "40/40 [==============================] - 21s 526ms/step - loss: 1.8478 - acc: 0.2322 - val_loss: 1.8195 - val_acc: 0.2679\n",
            "\n",
            "Epoch 00015: val_loss did not improve from 1.81502\n",
            "Epoch 16/300\n",
            "40/40 [==============================] - 20s 504ms/step - loss: 1.7931 - acc: 0.2781 - val_loss: 1.8754 - val_acc: 0.2679\n",
            "\n",
            "Epoch 00016: val_loss did not improve from 1.81502\n",
            "Epoch 17/300\n",
            "40/40 [==============================] - 20s 501ms/step - loss: 1.7729 - acc: 0.3209 - val_loss: 1.8195 - val_acc: 0.3036\n",
            "\n",
            "Epoch 00017: val_loss did not improve from 1.81502\n",
            "Epoch 18/300\n",
            "40/40 [==============================] - 20s 523ms/step - loss: 1.8019 - acc: 0.3000 - val_loss: 1.7501 - val_acc: 0.3214\n",
            "\n",
            "Epoch 00018: val_loss improved from 1.81502 to 1.75006, saving model to model.h5\n",
            "Epoch 19/300\n",
            "40/40 [==============================] - 20s 520ms/step - loss: 1.7207 - acc: 0.3467 - val_loss: 1.8467 - val_acc: 0.2679\n",
            "\n",
            "Epoch 00019: val_loss did not improve from 1.75006\n",
            "Epoch 20/300\n",
            "40/40 [==============================] - 20s 510ms/step - loss: 1.7731 - acc: 0.3368 - val_loss: 1.7066 - val_acc: 0.2857\n",
            "\n",
            "Epoch 00020: val_loss improved from 1.75006 to 1.70657, saving model to model.h5\n",
            "Epoch 21/300\n",
            "40/40 [==============================] - 20s 500ms/step - loss: 1.7528 - acc: 0.3481 - val_loss: 1.7841 - val_acc: 0.3929\n",
            "\n",
            "Epoch 00021: val_loss did not improve from 1.70657\n",
            "Epoch 22/300\n",
            "40/40 [==============================] - 20s 509ms/step - loss: 1.6938 - acc: 0.3786 - val_loss: 1.7659 - val_acc: 0.3036\n",
            "\n",
            "Epoch 00022: val_loss did not improve from 1.70657\n",
            "Epoch 23/300\n",
            "40/40 [==============================] - 20s 499ms/step - loss: 1.6723 - acc: 0.3711 - val_loss: 1.6083 - val_acc: 0.3750\n",
            "\n",
            "Epoch 00023: val_loss improved from 1.70657 to 1.60828, saving model to model.h5\n",
            "Epoch 24/300\n",
            "40/40 [==============================] - 20s 511ms/step - loss: 1.7386 - acc: 0.3534 - val_loss: 1.7165 - val_acc: 0.2857\n",
            "\n",
            "Epoch 00024: val_loss did not improve from 1.60828\n",
            "Epoch 25/300\n",
            "40/40 [==============================] - 20s 516ms/step - loss: 1.6877 - acc: 0.3260 - val_loss: 1.5475 - val_acc: 0.4643\n",
            "\n",
            "Epoch 00025: val_loss improved from 1.60828 to 1.54747, saving model to model.h5\n",
            "Epoch 26/300\n",
            "40/40 [==============================] - 20s 516ms/step - loss: 1.6493 - acc: 0.3498 - val_loss: 1.5776 - val_acc: 0.3571\n",
            "\n",
            "Epoch 00026: val_loss did not improve from 1.54747\n",
            "Epoch 27/300\n",
            "40/40 [==============================] - 21s 533ms/step - loss: 1.6824 - acc: 0.3467 - val_loss: 1.7050 - val_acc: 0.3214\n",
            "\n",
            "Epoch 00027: val_loss did not improve from 1.54747\n",
            "Epoch 28/300\n",
            "40/40 [==============================] - 20s 499ms/step - loss: 1.6509 - acc: 0.3272 - val_loss: 1.3233 - val_acc: 0.6250\n",
            "\n",
            "Epoch 00028: val_loss improved from 1.54747 to 1.32331, saving model to model.h5\n",
            "Epoch 29/300\n",
            "40/40 [==============================] - 21s 523ms/step - loss: 1.6489 - acc: 0.3909 - val_loss: 1.5061 - val_acc: 0.4286\n",
            "\n",
            "Epoch 00029: val_loss did not improve from 1.32331\n",
            "Epoch 30/300\n",
            "40/40 [==============================] - 19s 487ms/step - loss: 1.5365 - acc: 0.4548 - val_loss: 1.6034 - val_acc: 0.3571\n",
            "\n",
            "Epoch 00030: val_loss did not improve from 1.32331\n",
            "Epoch 31/300\n",
            "40/40 [==============================] - 20s 507ms/step - loss: 1.6289 - acc: 0.4025 - val_loss: 1.5762 - val_acc: 0.3929\n",
            "\n",
            "Epoch 00031: val_loss did not improve from 1.32331\n",
            "Epoch 32/300\n",
            "40/40 [==============================] - 19s 496ms/step - loss: 1.4338 - acc: 0.4745 - val_loss: 1.6394 - val_acc: 0.3750\n",
            "\n",
            "Epoch 00032: val_loss did not improve from 1.32331\n",
            "Epoch 33/300\n",
            "40/40 [==============================] - 19s 494ms/step - loss: 1.4671 - acc: 0.3948 - val_loss: 1.4644 - val_acc: 0.5179\n",
            "\n",
            "Epoch 00033: val_loss did not improve from 1.32331\n",
            "Epoch 34/300\n",
            "40/40 [==============================] - 20s 522ms/step - loss: 1.5161 - acc: 0.4340 - val_loss: 1.5378 - val_acc: 0.4107\n",
            "\n",
            "Epoch 00034: val_loss did not improve from 1.32331\n",
            "Epoch 35/300\n",
            "40/40 [==============================] - 19s 485ms/step - loss: 1.4331 - acc: 0.5035 - val_loss: 1.3832 - val_acc: 0.4286\n",
            "\n",
            "Epoch 00035: val_loss did not improve from 1.32331\n",
            "Epoch 36/300\n",
            "40/40 [==============================] - 20s 516ms/step - loss: 1.4116 - acc: 0.4350 - val_loss: 1.4394 - val_acc: 0.4464\n",
            "\n",
            "Epoch 00036: val_loss did not improve from 1.32331\n",
            "Epoch 37/300\n",
            "40/40 [==============================] - 20s 507ms/step - loss: 1.4730 - acc: 0.4666 - val_loss: 1.3488 - val_acc: 0.5714\n",
            "\n",
            "Epoch 00037: val_loss did not improve from 1.32331\n",
            "Epoch 38/300\n",
            "40/40 [==============================] - 21s 523ms/step - loss: 1.3629 - acc: 0.5041 - val_loss: 1.4559 - val_acc: 0.4821\n",
            "\n",
            "Epoch 00038: val_loss did not improve from 1.32331\n",
            "Epoch 39/300\n",
            "40/40 [==============================] - 20s 509ms/step - loss: 1.2975 - acc: 0.5743 - val_loss: 1.3976 - val_acc: 0.5714\n",
            "\n",
            "Epoch 00039: val_loss did not improve from 1.32331\n",
            "Epoch 40/300\n",
            "40/40 [==============================] - 19s 486ms/step - loss: 1.2131 - acc: 0.6142 - val_loss: 1.2891 - val_acc: 0.5536\n",
            "\n",
            "Epoch 00040: val_loss improved from 1.32331 to 1.28908, saving model to model.h5\n",
            "Epoch 41/300\n",
            "40/40 [==============================] - 20s 507ms/step - loss: 1.1871 - acc: 0.6040 - val_loss: 1.2009 - val_acc: 0.5714\n",
            "\n",
            "Epoch 00041: val_loss improved from 1.28908 to 1.20089, saving model to model.h5\n",
            "Epoch 42/300\n",
            "40/40 [==============================] - 20s 507ms/step - loss: 1.2652 - acc: 0.5421 - val_loss: 1.0903 - val_acc: 0.6429\n",
            "\n",
            "Epoch 00042: val_loss improved from 1.20089 to 1.09025, saving model to model.h5\n",
            "Epoch 43/300\n",
            "40/40 [==============================] - 20s 517ms/step - loss: 1.1398 - acc: 0.6020 - val_loss: 1.2667 - val_acc: 0.5179\n",
            "\n",
            "Epoch 00043: val_loss did not improve from 1.09025\n",
            "Epoch 44/300\n",
            "40/40 [==============================] - 20s 504ms/step - loss: 1.1176 - acc: 0.5706 - val_loss: 1.3295 - val_acc: 0.5000\n",
            "\n",
            "Epoch 00044: val_loss did not improve from 1.09025\n",
            "Epoch 45/300\n",
            "40/40 [==============================] - 20s 498ms/step - loss: 1.1253 - acc: 0.6126 - val_loss: 0.9848 - val_acc: 0.6429\n",
            "\n",
            "Epoch 00045: val_loss improved from 1.09025 to 0.98477, saving model to model.h5\n",
            "Epoch 46/300\n",
            "40/40 [==============================] - 20s 503ms/step - loss: 1.1140 - acc: 0.5867 - val_loss: 1.2647 - val_acc: 0.4821\n",
            "\n",
            "Epoch 00046: val_loss did not improve from 0.98477\n",
            "Epoch 47/300\n",
            "40/40 [==============================] - 19s 487ms/step - loss: 1.0786 - acc: 0.6414 - val_loss: 1.1512 - val_acc: 0.5536\n",
            "\n",
            "Epoch 00047: val_loss did not improve from 0.98477\n",
            "Epoch 48/300\n",
            "40/40 [==============================] - 20s 520ms/step - loss: 1.0229 - acc: 0.6716 - val_loss: 0.9890 - val_acc: 0.6607\n",
            "\n",
            "Epoch 00048: val_loss did not improve from 0.98477\n",
            "Epoch 49/300\n",
            "40/40 [==============================] - 20s 506ms/step - loss: 1.0756 - acc: 0.6045 - val_loss: 0.9116 - val_acc: 0.6250\n",
            "\n",
            "Epoch 00049: val_loss improved from 0.98477 to 0.91156, saving model to model.h5\n",
            "Epoch 50/300\n",
            "40/40 [==============================] - 21s 537ms/step - loss: 1.0472 - acc: 0.6310 - val_loss: 1.1603 - val_acc: 0.5357\n",
            "\n",
            "Epoch 00050: val_loss did not improve from 0.91156\n",
            "Epoch 51/300\n",
            "40/40 [==============================] - 21s 544ms/step - loss: 1.0989 - acc: 0.5722 - val_loss: 1.1270 - val_acc: 0.5536\n",
            "\n",
            "Epoch 00051: val_loss did not improve from 0.91156\n",
            "Epoch 52/300\n",
            "40/40 [==============================] - 20s 521ms/step - loss: 0.9336 - acc: 0.7139 - val_loss: 1.0755 - val_acc: 0.6250\n",
            "\n",
            "Epoch 00052: val_loss did not improve from 0.91156\n",
            "Epoch 53/300\n",
            "40/40 [==============================] - 21s 532ms/step - loss: 0.9790 - acc: 0.6774 - val_loss: 0.9517 - val_acc: 0.7143\n",
            "\n",
            "Epoch 00053: val_loss did not improve from 0.91156\n",
            "Epoch 54/300\n",
            "40/40 [==============================] - 22s 555ms/step - loss: 1.0068 - acc: 0.6434 - val_loss: 1.0313 - val_acc: 0.6429\n",
            "\n",
            "Epoch 00054: val_loss did not improve from 0.91156\n",
            "Epoch 55/300\n",
            "40/40 [==============================] - 21s 533ms/step - loss: 0.9526 - acc: 0.6763 - val_loss: 1.0608 - val_acc: 0.5000\n",
            "\n",
            "Epoch 00055: val_loss did not improve from 0.91156\n",
            "Epoch 56/300\n",
            "40/40 [==============================] - 21s 527ms/step - loss: 0.8877 - acc: 0.7174 - val_loss: 1.0009 - val_acc: 0.5893\n",
            "\n",
            "Epoch 00056: val_loss did not improve from 0.91156\n",
            "Epoch 57/300\n",
            "40/40 [==============================] - 21s 530ms/step - loss: 0.9805 - acc: 0.6723 - val_loss: 0.9660 - val_acc: 0.7143\n",
            "\n",
            "Epoch 00057: val_loss did not improve from 0.91156\n",
            "Epoch 58/300\n",
            "40/40 [==============================] - 22s 568ms/step - loss: 0.8358 - acc: 0.7338 - val_loss: 0.7862 - val_acc: 0.7500\n",
            "\n",
            "Epoch 00058: val_loss improved from 0.91156 to 0.78615, saving model to model.h5\n",
            "Epoch 59/300\n",
            "40/40 [==============================] - 21s 546ms/step - loss: 0.7570 - acc: 0.7836 - val_loss: 0.7877 - val_acc: 0.7857\n",
            "\n",
            "Epoch 00059: val_loss did not improve from 0.78615\n",
            "Epoch 60/300\n",
            "40/40 [==============================] - 21s 530ms/step - loss: 0.8078 - acc: 0.7421 - val_loss: 0.7406 - val_acc: 0.7857\n",
            "\n",
            "Epoch 00060: val_loss improved from 0.78615 to 0.74061, saving model to model.h5\n",
            "Epoch 61/300\n",
            "40/40 [==============================] - 22s 554ms/step - loss: 0.7151 - acc: 0.7798 - val_loss: 1.0908 - val_acc: 0.5714\n",
            "\n",
            "Epoch 00061: val_loss did not improve from 0.74061\n",
            "Epoch 62/300\n",
            "40/40 [==============================] - 20s 522ms/step - loss: 0.7765 - acc: 0.7861 - val_loss: 0.7081 - val_acc: 0.7857\n",
            "\n",
            "Epoch 00062: val_loss improved from 0.74061 to 0.70812, saving model to model.h5\n",
            "Epoch 63/300\n",
            "40/40 [==============================] - 21s 526ms/step - loss: 0.7978 - acc: 0.7469 - val_loss: 0.9196 - val_acc: 0.6071\n",
            "\n",
            "Epoch 00063: val_loss did not improve from 0.70812\n",
            "Epoch 64/300\n",
            "40/40 [==============================] - 21s 527ms/step - loss: 0.7768 - acc: 0.7387 - val_loss: 0.8666 - val_acc: 0.7321\n",
            "\n",
            "Epoch 00064: val_loss did not improve from 0.70812\n",
            "Epoch 65/300\n",
            "40/40 [==============================] - 22s 558ms/step - loss: 0.7766 - acc: 0.7302 - val_loss: 0.6720 - val_acc: 0.7679\n",
            "\n",
            "Epoch 00065: val_loss improved from 0.70812 to 0.67202, saving model to model.h5\n",
            "Epoch 66/300\n",
            "40/40 [==============================] - 20s 502ms/step - loss: 0.6060 - acc: 0.7983 - val_loss: 0.6570 - val_acc: 0.8571\n",
            "\n",
            "Epoch 00066: val_loss improved from 0.67202 to 0.65703, saving model to model.h5\n",
            "Epoch 67/300\n",
            "40/40 [==============================] - 20s 518ms/step - loss: 0.6885 - acc: 0.7894 - val_loss: 0.7450 - val_acc: 0.7857\n",
            "\n",
            "Epoch 00067: val_loss did not improve from 0.65703\n",
            "Epoch 68/300\n",
            "40/40 [==============================] - 21s 534ms/step - loss: 0.6428 - acc: 0.7977 - val_loss: 0.6408 - val_acc: 0.8036\n",
            "\n",
            "Epoch 00068: val_loss improved from 0.65703 to 0.64075, saving model to model.h5\n",
            "Epoch 69/300\n",
            "40/40 [==============================] - 21s 540ms/step - loss: 0.6038 - acc: 0.7992 - val_loss: 0.6611 - val_acc: 0.8571\n",
            "\n",
            "Epoch 00069: val_loss did not improve from 0.64075\n",
            "Epoch 70/300\n",
            "40/40 [==============================] - 21s 528ms/step - loss: 0.6862 - acc: 0.7540 - val_loss: 0.7383 - val_acc: 0.7500\n",
            "\n",
            "Epoch 00070: val_loss did not improve from 0.64075\n",
            "Epoch 71/300\n",
            "40/40 [==============================] - 21s 541ms/step - loss: 0.5638 - acc: 0.8249 - val_loss: 0.6106 - val_acc: 0.8393\n",
            "\n",
            "Epoch 00071: val_loss improved from 0.64075 to 0.61062, saving model to model.h5\n",
            "Epoch 72/300\n",
            "40/40 [==============================] - 21s 547ms/step - loss: 0.5629 - acc: 0.8521 - val_loss: 0.5348 - val_acc: 0.8393\n",
            "\n",
            "Epoch 00072: val_loss improved from 0.61062 to 0.53476, saving model to model.h5\n",
            "Epoch 73/300\n",
            "40/40 [==============================] - 21s 541ms/step - loss: 0.6333 - acc: 0.7979 - val_loss: 0.6881 - val_acc: 0.7857\n",
            "\n",
            "Epoch 00073: val_loss did not improve from 0.53476\n",
            "Epoch 74/300\n",
            "40/40 [==============================] - 20s 519ms/step - loss: 0.6282 - acc: 0.8188 - val_loss: 0.6439 - val_acc: 0.8036\n",
            "\n",
            "Epoch 00074: val_loss did not improve from 0.53476\n",
            "Epoch 75/300\n",
            "40/40 [==============================] - 21s 525ms/step - loss: 0.5705 - acc: 0.8304 - val_loss: 0.5980 - val_acc: 0.8036\n",
            "\n",
            "Epoch 00075: val_loss did not improve from 0.53476\n",
            "Epoch 76/300\n",
            "40/40 [==============================] - 20s 520ms/step - loss: 0.5184 - acc: 0.8579 - val_loss: 0.6186 - val_acc: 0.7679\n",
            "\n",
            "Epoch 00076: val_loss did not improve from 0.53476\n",
            "Epoch 77/300\n",
            "40/40 [==============================] - 20s 512ms/step - loss: 0.5260 - acc: 0.8527 - val_loss: 0.5602 - val_acc: 0.8929\n",
            "\n",
            "Epoch 00077: val_loss did not improve from 0.53476\n",
            "Epoch 78/300\n",
            "40/40 [==============================] - 21s 534ms/step - loss: 0.5012 - acc: 0.8851 - val_loss: 0.6898 - val_acc: 0.8393\n",
            "\n",
            "Epoch 00078: val_loss did not improve from 0.53476\n",
            "Epoch 79/300\n",
            "40/40 [==============================] - 22s 562ms/step - loss: 0.4818 - acc: 0.8864 - val_loss: 0.5147 - val_acc: 0.8214\n",
            "\n",
            "Epoch 00079: val_loss improved from 0.53476 to 0.51469, saving model to model.h5\n",
            "Epoch 80/300\n",
            "40/40 [==============================] - 21s 533ms/step - loss: 0.5429 - acc: 0.8474 - val_loss: 0.5141 - val_acc: 0.8571\n",
            "\n",
            "Epoch 00080: val_loss improved from 0.51469 to 0.51406, saving model to model.h5\n",
            "Epoch 81/300\n",
            "40/40 [==============================] - 21s 537ms/step - loss: 0.4695 - acc: 0.8796 - val_loss: 0.3721 - val_acc: 0.9643\n",
            "\n",
            "Epoch 00081: val_loss improved from 0.51406 to 0.37215, saving model to model.h5\n",
            "Epoch 82/300\n",
            "40/40 [==============================] - 22s 552ms/step - loss: 0.4606 - acc: 0.9106 - val_loss: 0.5737 - val_acc: 0.8929\n",
            "\n",
            "Epoch 00082: val_loss did not improve from 0.37215\n",
            "Epoch 83/300\n",
            "40/40 [==============================] - 20s 517ms/step - loss: 0.3721 - acc: 0.9316 - val_loss: 0.5731 - val_acc: 0.8214\n",
            "\n",
            "Epoch 00083: val_loss did not improve from 0.37215\n",
            "Epoch 84/300\n",
            "40/40 [==============================] - 22s 549ms/step - loss: 0.4183 - acc: 0.8739 - val_loss: 0.4824 - val_acc: 0.8929\n",
            "\n",
            "Epoch 00084: val_loss did not improve from 0.37215\n",
            "Epoch 85/300\n",
            "40/40 [==============================] - 21s 532ms/step - loss: 0.4123 - acc: 0.8601 - val_loss: 0.5610 - val_acc: 0.7679\n",
            "\n",
            "Epoch 00085: val_loss did not improve from 0.37215\n",
            "Epoch 86/300\n",
            "40/40 [==============================] - 20s 507ms/step - loss: 0.4848 - acc: 0.8705 - val_loss: 0.4692 - val_acc: 0.9107\n",
            "\n",
            "Epoch 00086: val_loss did not improve from 0.37215\n",
            "Epoch 87/300\n",
            "40/40 [==============================] - 22s 562ms/step - loss: 0.4190 - acc: 0.8825 - val_loss: 0.5221 - val_acc: 0.9107\n",
            "\n",
            "Epoch 00087: val_loss did not improve from 0.37215\n",
            "Epoch 88/300\n",
            "40/40 [==============================] - 21s 546ms/step - loss: 0.3741 - acc: 0.9145 - val_loss: 0.5487 - val_acc: 0.7857\n",
            "\n",
            "Epoch 00088: val_loss did not improve from 0.37215\n",
            "Epoch 89/300\n",
            "40/40 [==============================] - 20s 514ms/step - loss: 0.3925 - acc: 0.9112 - val_loss: 0.5886 - val_acc: 0.8214\n",
            "\n",
            "Epoch 00089: val_loss did not improve from 0.37215\n",
            "Epoch 90/300\n",
            "40/40 [==============================] - 21s 535ms/step - loss: 0.3927 - acc: 0.9074 - val_loss: 0.4571 - val_acc: 0.8929\n",
            "\n",
            "Epoch 00090: val_loss did not improve from 0.37215\n",
            "Epoch 91/300\n",
            "40/40 [==============================] - 21s 540ms/step - loss: 0.3665 - acc: 0.9167 - val_loss: 0.3806 - val_acc: 0.8929\n",
            "\n",
            "Epoch 00091: val_loss did not improve from 0.37215\n",
            "Epoch 92/300\n",
            "40/40 [==============================] - 20s 510ms/step - loss: 0.3787 - acc: 0.8868 - val_loss: 0.5115 - val_acc: 0.8929\n",
            "\n",
            "Epoch 00092: val_loss did not improve from 0.37215\n",
            "Epoch 93/300\n",
            "40/40 [==============================] - 22s 562ms/step - loss: 0.3635 - acc: 0.9284 - val_loss: 0.4656 - val_acc: 0.7857\n",
            "\n",
            "Epoch 00093: val_loss did not improve from 0.37215\n",
            "Epoch 94/300\n",
            "40/40 [==============================] - 21s 524ms/step - loss: 0.3145 - acc: 0.9226 - val_loss: 0.3573 - val_acc: 0.9107\n",
            "\n",
            "Epoch 00094: val_loss improved from 0.37215 to 0.35730, saving model to model.h5\n",
            "Epoch 95/300\n",
            "40/40 [==============================] - 20s 514ms/step - loss: 0.3240 - acc: 0.9164 - val_loss: 0.4197 - val_acc: 0.9107\n",
            "\n",
            "Epoch 00095: val_loss did not improve from 0.35730\n",
            "Epoch 96/300\n",
            "40/40 [==============================] - 22s 567ms/step - loss: 0.3055 - acc: 0.9364 - val_loss: 0.5091 - val_acc: 0.8750\n",
            "\n",
            "Epoch 00096: val_loss did not improve from 0.35730\n",
            "Epoch 97/300\n",
            "40/40 [==============================] - 21s 534ms/step - loss: 0.2504 - acc: 0.9453 - val_loss: 0.4554 - val_acc: 0.9464\n",
            "\n",
            "Epoch 00097: val_loss did not improve from 0.35730\n",
            "Epoch 98/300\n",
            "40/40 [==============================] - 21s 541ms/step - loss: 0.3133 - acc: 0.9482 - val_loss: 0.4898 - val_acc: 0.8929\n",
            "\n",
            "Epoch 00098: val_loss did not improve from 0.35730\n",
            "Epoch 99/300\n",
            "40/40 [==============================] - 22s 562ms/step - loss: 0.3431 - acc: 0.9199 - val_loss: 0.3337 - val_acc: 0.9464\n",
            "\n",
            "Epoch 00099: val_loss improved from 0.35730 to 0.33369, saving model to model.h5\n",
            "Epoch 100/300\n",
            "40/40 [==============================] - 21s 533ms/step - loss: 0.3273 - acc: 0.9326 - val_loss: 0.5045 - val_acc: 0.9464\n",
            "\n",
            "Epoch 00100: val_loss did not improve from 0.33369\n",
            "Epoch 101/300\n",
            "40/40 [==============================] - 21s 544ms/step - loss: 0.3019 - acc: 0.9522 - val_loss: 0.3929 - val_acc: 0.9286\n",
            "\n",
            "Epoch 00101: val_loss did not improve from 0.33369\n",
            "Epoch 102/300\n",
            "40/40 [==============================] - 22s 556ms/step - loss: 0.2550 - acc: 0.9347 - val_loss: 0.3303 - val_acc: 0.9643\n",
            "\n",
            "Epoch 00102: val_loss improved from 0.33369 to 0.33033, saving model to model.h5\n",
            "Epoch 103/300\n",
            "40/40 [==============================] - 21s 544ms/step - loss: 0.3380 - acc: 0.9082 - val_loss: 0.3076 - val_acc: 0.9643\n",
            "\n",
            "Epoch 00103: val_loss improved from 0.33033 to 0.30761, saving model to model.h5\n",
            "Epoch 104/300\n",
            "40/40 [==============================] - 22s 554ms/step - loss: 0.2927 - acc: 0.9439 - val_loss: 0.2225 - val_acc: 0.9643\n",
            "\n",
            "Epoch 00104: val_loss improved from 0.30761 to 0.22254, saving model to model.h5\n",
            "Epoch 105/300\n",
            "40/40 [==============================] - 21s 538ms/step - loss: 0.2959 - acc: 0.9470 - val_loss: 0.4103 - val_acc: 0.8571\n",
            "\n",
            "Epoch 00105: val_loss did not improve from 0.22254\n",
            "Epoch 106/300\n",
            "40/40 [==============================] - 21s 538ms/step - loss: 0.3035 - acc: 0.9098 - val_loss: 0.3498 - val_acc: 0.9286\n",
            "\n",
            "Epoch 00106: val_loss did not improve from 0.22254\n",
            "Epoch 107/300\n",
            "40/40 [==============================] - 22s 562ms/step - loss: 0.2719 - acc: 0.9504 - val_loss: 0.4604 - val_acc: 0.8750\n",
            "\n",
            "Epoch 00107: val_loss did not improve from 0.22254\n",
            "Epoch 108/300\n",
            "40/40 [==============================] - 21s 545ms/step - loss: 0.2847 - acc: 0.9397 - val_loss: 0.4882 - val_acc: 0.8571\n",
            "\n",
            "Epoch 00108: val_loss did not improve from 0.22254\n",
            "Epoch 109/300\n",
            "40/40 [==============================] - 20s 522ms/step - loss: 0.3054 - acc: 0.9266 - val_loss: 0.3354 - val_acc: 0.8571\n",
            "\n",
            "Epoch 00109: val_loss did not improve from 0.22254\n",
            "Epoch 110/300\n",
            "40/40 [==============================] - 22s 572ms/step - loss: 0.2549 - acc: 0.9572 - val_loss: 0.3568 - val_acc: 0.9643\n",
            "\n",
            "Epoch 00110: val_loss did not improve from 0.22254\n",
            "Epoch 111/300\n",
            "40/40 [==============================] - 21s 548ms/step - loss: 0.3141 - acc: 0.9184 - val_loss: 0.2736 - val_acc: 0.9464\n",
            "\n",
            "Epoch 00111: val_loss did not improve from 0.22254\n",
            "Epoch 112/300\n",
            "40/40 [==============================] - 20s 519ms/step - loss: 0.2258 - acc: 0.9571 - val_loss: 0.2630 - val_acc: 0.9464\n",
            "\n",
            "Epoch 00112: val_loss did not improve from 0.22254\n",
            "Epoch 113/300\n",
            "40/40 [==============================] - 22s 568ms/step - loss: 0.2638 - acc: 0.9488 - val_loss: 0.3216 - val_acc: 0.9286\n",
            "\n",
            "Epoch 00113: val_loss did not improve from 0.22254\n",
            "Epoch 114/300\n",
            "40/40 [==============================] - 21s 541ms/step - loss: 0.2431 - acc: 0.9499 - val_loss: 0.3122 - val_acc: 0.9286\n",
            "\n",
            "Epoch 00114: val_loss did not improve from 0.22254\n",
            "Epoch 115/300\n",
            "40/40 [==============================] - 20s 518ms/step - loss: 0.2183 - acc: 0.9672 - val_loss: 0.5030 - val_acc: 0.8214\n",
            "\n",
            "Epoch 00115: val_loss did not improve from 0.22254\n",
            "Epoch 116/300\n",
            "40/40 [==============================] - 22s 570ms/step - loss: 0.2449 - acc: 0.9439 - val_loss: 0.3538 - val_acc: 0.8929\n",
            "\n",
            "Epoch 00116: val_loss did not improve from 0.22254\n",
            "Epoch 117/300\n",
            "40/40 [==============================] - 21s 527ms/step - loss: 0.2113 - acc: 0.9579 - val_loss: 0.2784 - val_acc: 0.9286\n",
            "\n",
            "Epoch 00117: val_loss did not improve from 0.22254\n",
            "Epoch 118/300\n",
            "40/40 [==============================] - 22s 554ms/step - loss: 0.2148 - acc: 0.9550 - val_loss: 0.1861 - val_acc: 0.9286\n",
            "\n",
            "Epoch 00118: val_loss improved from 0.22254 to 0.18606, saving model to model.h5\n",
            "Epoch 119/300\n",
            "40/40 [==============================] - 21s 547ms/step - loss: 0.2224 - acc: 0.9521 - val_loss: 0.2755 - val_acc: 0.9464\n",
            "\n",
            "Epoch 00119: val_loss did not improve from 0.18606\n",
            "Epoch 120/300\n",
            "40/40 [==============================] - 20s 521ms/step - loss: 0.2167 - acc: 0.9511 - val_loss: 0.2913 - val_acc: 0.9464\n",
            "\n",
            "Epoch 00120: val_loss did not improve from 0.18606\n",
            "Epoch 121/300\n",
            "40/40 [==============================] - 22s 570ms/step - loss: 0.2128 - acc: 0.9562 - val_loss: 0.2927 - val_acc: 0.9464\n",
            "\n",
            "Epoch 00121: val_loss did not improve from 0.18606\n",
            "Epoch 122/300\n",
            "40/40 [==============================] - 22s 564ms/step - loss: 0.2264 - acc: 0.9685 - val_loss: 0.2689 - val_acc: 0.9286\n",
            "\n",
            "Epoch 00122: val_loss did not improve from 0.18606\n",
            "Epoch 123/300\n",
            "40/40 [==============================] - 21s 541ms/step - loss: 0.2106 - acc: 0.9649 - val_loss: 0.1840 - val_acc: 0.9821\n",
            "\n",
            "Epoch 00123: val_loss improved from 0.18606 to 0.18398, saving model to model.h5\n",
            "Epoch 124/300\n",
            "40/40 [==============================] - 21s 541ms/step - loss: 0.2278 - acc: 0.9516 - val_loss: 0.3439 - val_acc: 0.9464\n",
            "\n",
            "Epoch 00124: val_loss did not improve from 0.18398\n",
            "Epoch 125/300\n",
            "40/40 [==============================] - 22s 561ms/step - loss: 0.1675 - acc: 0.9650 - val_loss: 0.2070 - val_acc: 0.9821\n",
            "\n",
            "Epoch 00125: val_loss did not improve from 0.18398\n",
            "Epoch 126/300\n",
            "40/40 [==============================] - 21s 523ms/step - loss: 0.1482 - acc: 0.9789 - val_loss: 0.2487 - val_acc: 0.9107\n",
            "\n",
            "Epoch 00126: val_loss did not improve from 0.18398\n",
            "Epoch 127/300\n",
            "40/40 [==============================] - 21s 546ms/step - loss: 0.2155 - acc: 0.9401 - val_loss: 0.2367 - val_acc: 0.9643\n",
            "\n",
            "Epoch 00127: val_loss did not improve from 0.18398\n",
            "Epoch 128/300\n",
            "40/40 [==============================] - 21s 538ms/step - loss: 0.1968 - acc: 0.9489 - val_loss: 0.2551 - val_acc: 0.8929\n",
            "\n",
            "Epoch 00128: val_loss did not improve from 0.18398\n",
            "Epoch 129/300\n",
            "40/40 [==============================] - 20s 516ms/step - loss: 0.1844 - acc: 0.9749 - val_loss: 0.1905 - val_acc: 1.0000\n",
            "\n",
            "Epoch 00129: val_loss did not improve from 0.18398\n",
            "Epoch 130/300\n",
            "40/40 [==============================] - 23s 576ms/step - loss: 0.1408 - acc: 0.9757 - val_loss: 0.2130 - val_acc: 0.9464\n",
            "\n",
            "Epoch 00130: val_loss did not improve from 0.18398\n",
            "Epoch 131/300\n",
            "40/40 [==============================] - 21s 535ms/step - loss: 0.1584 - acc: 0.9704 - val_loss: 0.2805 - val_acc: 0.9286\n",
            "\n",
            "Epoch 00131: val_loss did not improve from 0.18398\n",
            "Epoch 132/300\n",
            "40/40 [==============================] - 22s 560ms/step - loss: 0.1994 - acc: 0.9579 - val_loss: 0.2895 - val_acc: 0.9464\n",
            "\n",
            "Epoch 00132: val_loss did not improve from 0.18398\n",
            "Epoch 133/300\n",
            "40/40 [==============================] - 22s 569ms/step - loss: 0.1635 - acc: 0.9549 - val_loss: 0.2068 - val_acc: 0.9464\n",
            "\n",
            "Epoch 00133: val_loss did not improve from 0.18398\n",
            "Epoch 134/300\n",
            "40/40 [==============================] - 21s 531ms/step - loss: 0.1620 - acc: 0.9818 - val_loss: 0.2511 - val_acc: 0.9464\n",
            "\n",
            "Epoch 00134: val_loss did not improve from 0.18398\n",
            "Epoch 135/300\n",
            "40/40 [==============================] - 21s 548ms/step - loss: 0.1308 - acc: 0.9682 - val_loss: 0.2034 - val_acc: 0.9821\n",
            "\n",
            "Epoch 00135: val_loss did not improve from 0.18398\n",
            "Epoch 136/300\n",
            "40/40 [==============================] - 22s 556ms/step - loss: 0.1617 - acc: 0.9630 - val_loss: 0.2003 - val_acc: 0.9643\n",
            "\n",
            "Epoch 00136: val_loss did not improve from 0.18398\n",
            "Epoch 137/300\n",
            "40/40 [==============================] - 20s 522ms/step - loss: 0.1354 - acc: 0.9573 - val_loss: 0.2619 - val_acc: 0.9107\n",
            "\n",
            "Epoch 00137: val_loss did not improve from 0.18398\n",
            "Epoch 138/300\n",
            "40/40 [==============================] - 21s 537ms/step - loss: 0.1645 - acc: 0.9737 - val_loss: 0.2922 - val_acc: 0.9464\n",
            "\n",
            "Epoch 00138: val_loss did not improve from 0.18398\n",
            "Epoch 139/300\n",
            "40/40 [==============================] - 20s 520ms/step - loss: 0.1352 - acc: 0.9909 - val_loss: 0.2570 - val_acc: 0.9464\n",
            "\n",
            "Epoch 00139: val_loss did not improve from 0.18398\n",
            "Epoch 140/300\n",
            "40/40 [==============================] - 22s 559ms/step - loss: 0.1550 - acc: 0.9760 - val_loss: 0.2177 - val_acc: 0.9821\n",
            "\n",
            "Epoch 00140: val_loss did not improve from 0.18398\n",
            "Epoch 141/300\n",
            "40/40 [==============================] - 22s 555ms/step - loss: 0.1865 - acc: 0.9643 - val_loss: 0.2979 - val_acc: 0.9286\n",
            "\n",
            "Epoch 00141: val_loss did not improve from 0.18398\n",
            "Epoch 142/300\n",
            "40/40 [==============================] - 21s 524ms/step - loss: 0.1753 - acc: 0.9706 - val_loss: 0.1799 - val_acc: 0.9821\n",
            "\n",
            "Epoch 00142: val_loss improved from 0.18398 to 0.17993, saving model to model.h5\n",
            "Epoch 143/300\n",
            "40/40 [==============================] - 22s 568ms/step - loss: 0.1442 - acc: 0.9869 - val_loss: 0.2668 - val_acc: 0.8929\n",
            "\n",
            "Epoch 00143: val_loss did not improve from 0.17993\n",
            "Epoch 144/300\n",
            "40/40 [==============================] - 21s 543ms/step - loss: 0.1227 - acc: 0.9875 - val_loss: 0.1171 - val_acc: 0.9464\n",
            "\n",
            "Epoch 00144: val_loss improved from 0.17993 to 0.11711, saving model to model.h5\n",
            "Epoch 145/300\n",
            "40/40 [==============================] - 21s 537ms/step - loss: 0.1457 - acc: 0.9612 - val_loss: 0.1400 - val_acc: 0.9821\n",
            "\n",
            "Epoch 00145: val_loss did not improve from 0.11711\n",
            "Epoch 146/300\n",
            "40/40 [==============================] - 22s 556ms/step - loss: 0.1176 - acc: 0.9733 - val_loss: 0.3615 - val_acc: 0.8929\n",
            "\n",
            "Epoch 00146: val_loss did not improve from 0.11711\n",
            "Epoch 147/300\n",
            "40/40 [==============================] - 21s 544ms/step - loss: 0.1410 - acc: 0.9824 - val_loss: 0.2064 - val_acc: 0.9643\n",
            "\n",
            "Epoch 00147: val_loss did not improve from 0.11711\n",
            "Epoch 148/300\n",
            "40/40 [==============================] - 21s 544ms/step - loss: 0.0986 - acc: 0.9920 - val_loss: 0.1618 - val_acc: 0.9643\n",
            "\n",
            "Epoch 00148: val_loss did not improve from 0.11711\n",
            "Epoch 149/300\n",
            "40/40 [==============================] - 22s 556ms/step - loss: 0.1662 - acc: 0.9661 - val_loss: 0.2034 - val_acc: 0.9107\n",
            "\n",
            "Epoch 00149: val_loss did not improve from 0.11711\n",
            "Epoch 150/300\n",
            "40/40 [==============================] - 20s 520ms/step - loss: 0.1621 - acc: 0.9698 - val_loss: 0.2322 - val_acc: 0.9643\n",
            "\n",
            "Epoch 00150: val_loss did not improve from 0.11711\n",
            "Epoch 151/300\n",
            "40/40 [==============================] - 22s 558ms/step - loss: 0.1182 - acc: 0.9789 - val_loss: 0.2411 - val_acc: 0.9107\n",
            "\n",
            "Epoch 00151: val_loss did not improve from 0.11711\n",
            "Epoch 152/300\n",
            "40/40 [==============================] - 22s 565ms/step - loss: 0.1380 - acc: 0.9732 - val_loss: 0.1952 - val_acc: 0.9643\n",
            "\n",
            "Epoch 00152: val_loss did not improve from 0.11711\n",
            "Epoch 153/300\n",
            "40/40 [==============================] - 21s 523ms/step - loss: 0.1728 - acc: 0.9733 - val_loss: 0.1830 - val_acc: 0.9643\n",
            "\n",
            "Epoch 00153: val_loss did not improve from 0.11711\n",
            "Epoch 154/300\n",
            "40/40 [==============================] - 21s 546ms/step - loss: 0.1407 - acc: 0.9938 - val_loss: 0.2771 - val_acc: 0.9286\n",
            "\n",
            "Epoch 00154: val_loss did not improve from 0.11711\n",
            "Epoch 155/300\n",
            "40/40 [==============================] - 22s 560ms/step - loss: 0.0951 - acc: 0.9922 - val_loss: 0.1531 - val_acc: 0.9464\n",
            "\n",
            "Epoch 00155: val_loss did not improve from 0.11711\n",
            "Epoch 156/300\n",
            "40/40 [==============================] - 21s 524ms/step - loss: 0.1177 - acc: 0.9787 - val_loss: 0.2731 - val_acc: 0.9464\n",
            "\n",
            "Epoch 00156: val_loss did not improve from 0.11711\n",
            "Epoch 157/300\n",
            "40/40 [==============================] - 22s 556ms/step - loss: 0.1378 - acc: 0.9791 - val_loss: 0.2517 - val_acc: 0.8750\n",
            "\n",
            "Epoch 00157: val_loss did not improve from 0.11711\n",
            "Epoch 158/300\n",
            "40/40 [==============================] - 21s 533ms/step - loss: 0.1501 - acc: 0.9612 - val_loss: 0.3045 - val_acc: 0.8393\n",
            "\n",
            "Epoch 00158: val_loss did not improve from 0.11711\n",
            "Epoch 159/300\n",
            "40/40 [==============================] - 23s 576ms/step - loss: 0.1362 - acc: 0.9700 - val_loss: 0.2566 - val_acc: 0.9464\n",
            "\n",
            "Epoch 00159: val_loss did not improve from 0.11711\n",
            "Epoch 160/300\n",
            "40/40 [==============================] - 22s 572ms/step - loss: 0.1240 - acc: 0.9788 - val_loss: 0.1920 - val_acc: 0.9286\n",
            "\n",
            "Epoch 00160: val_loss did not improve from 0.11711\n",
            "Epoch 161/300\n",
            "40/40 [==============================] - 21s 524ms/step - loss: 0.1343 - acc: 0.9836 - val_loss: 0.1447 - val_acc: 0.9643\n",
            "\n",
            "Epoch 00161: val_loss did not improve from 0.11711\n",
            "Epoch 162/300\n",
            "40/40 [==============================] - 22s 561ms/step - loss: 0.1148 - acc: 0.9913 - val_loss: 0.1703 - val_acc: 0.9464\n",
            "\n",
            "Epoch 00162: val_loss did not improve from 0.11711\n",
            "Epoch 163/300\n",
            "40/40 [==============================] - 22s 562ms/step - loss: 0.1030 - acc: 0.9827 - val_loss: 0.2196 - val_acc: 0.9107\n",
            "\n",
            "Epoch 00163: val_loss did not improve from 0.11711\n",
            "Epoch 164/300\n",
            "40/40 [==============================] - 20s 513ms/step - loss: 0.1158 - acc: 0.9736 - val_loss: 0.1402 - val_acc: 0.9643\n",
            "\n",
            "Epoch 00164: val_loss did not improve from 0.11711\n",
            "\n",
            "Epoch 00164: ReduceLROnPlateau reducing learning rate to 4.999999873689376e-05.\n",
            "Epoch 165/300\n",
            "40/40 [==============================] - 22s 566ms/step - loss: 0.1560 - acc: 0.9564 - val_loss: 0.2323 - val_acc: 0.9643\n",
            "\n",
            "Epoch 00165: val_loss did not improve from 0.11711\n",
            "Epoch 166/300\n",
            "40/40 [==============================] - 21s 548ms/step - loss: 0.1205 - acc: 0.9875 - val_loss: 0.2623 - val_acc: 0.9643\n",
            "\n",
            "Epoch 00166: val_loss did not improve from 0.11711\n",
            "Epoch 167/300\n",
            "40/40 [==============================] - 22s 567ms/step - loss: 0.1093 - acc: 0.9890 - val_loss: 0.1894 - val_acc: 0.9643\n",
            "\n",
            "Epoch 00167: val_loss did not improve from 0.11711\n",
            "Epoch 168/300\n",
            "40/40 [==============================] - 21s 548ms/step - loss: 0.0917 - acc: 0.9941 - val_loss: 0.1297 - val_acc: 0.9821\n",
            "\n",
            "Epoch 00168: val_loss did not improve from 0.11711\n",
            "Epoch 169/300\n",
            "40/40 [==============================] - 21s 545ms/step - loss: 0.0774 - acc: 0.9980 - val_loss: 0.2844 - val_acc: 0.9286\n",
            "\n",
            "Epoch 00169: val_loss did not improve from 0.11711\n",
            "Epoch 170/300\n",
            "40/40 [==============================] - 22s 572ms/step - loss: 0.0939 - acc: 0.9788 - val_loss: 0.1331 - val_acc: 0.9821\n",
            "\n",
            "Epoch 00170: val_loss did not improve from 0.11711\n",
            "Epoch 171/300\n",
            "40/40 [==============================] - 23s 588ms/step - loss: 0.0890 - acc: 0.9898 - val_loss: 0.2177 - val_acc: 0.9643\n",
            "\n",
            "Epoch 00171: val_loss did not improve from 0.11711\n",
            "Epoch 172/300\n",
            "40/40 [==============================] - 21s 530ms/step - loss: 0.1067 - acc: 0.9942 - val_loss: 0.2306 - val_acc: 0.9464\n",
            "\n",
            "Epoch 00172: val_loss did not improve from 0.11711\n",
            "Epoch 173/300\n",
            "40/40 [==============================] - 23s 586ms/step - loss: 0.0893 - acc: 0.9966 - val_loss: 0.2600 - val_acc: 0.9286\n",
            "\n",
            "Epoch 00173: val_loss did not improve from 0.11711\n",
            "Epoch 174/300\n",
            "40/40 [==============================] - 21s 542ms/step - loss: 0.0843 - acc: 0.9899 - val_loss: 0.1918 - val_acc: 0.9464\n",
            "\n",
            "Epoch 00174: val_loss did not improve from 0.11711\n",
            "Epoch 00174: early stopping\n"
          ],
          "name": "stdout"
        }
      ]
    },
    {
      "cell_type": "code",
      "metadata": {
        "execution": {
          "iopub.execute_input": "2021-02-19T10:51:46.639481Z",
          "iopub.status.busy": "2021-02-19T10:51:46.638688Z",
          "iopub.status.idle": "2021-02-19T10:52:04.464112Z",
          "shell.execute_reply": "2021-02-19T10:52:04.462473Z"
        },
        "papermill": {
          "duration": 20.631054,
          "end_time": "2021-02-19T10:52:04.464277",
          "exception": false,
          "start_time": "2021-02-19T10:51:43.833223",
          "status": "completed"
        },
        "tags": [],
        "id": "sXpoNY3LUF1i"
      },
      "source": [
        "def load_obj(name ):\n",
        "    # print(name)\n",
        "    with open(name , 'rb') as f:\n",
        "        return pickle.load(f)\n",
        "\n",
        "def data_generator(files, batch_size = 8):\n",
        "    while(True):\n",
        "        # batch_paths  = np.random.choice(a = files, size = batch_size)\n",
        "        batch_paths = files\n",
        "\n",
        "        batch_facial  = []\n",
        "        batch_audio = []\n",
        "        batch_output = [] \n",
        "\n",
        "        for filename in batch_paths:\n",
        "\n",
        "            # print(filename)\n",
        "\n",
        "            cat = get_category(filename.split('_')[-1])\n",
        "\n",
        "            batch_facial.append(load_obj(os.path.join(facial_path,filename)))\n",
        "\n",
        "\n",
        "            b_f = np.array(batch_facial)/255.0\n",
        "            # b_v = np.array(batch_audio)/255.0\n",
        "            batch_output.append(cat)\n",
        "\n",
        "        batch_output = np.array(batch_output)\n",
        "\n",
        "        yield (b_f.astype('float32'),np_utils.to_categorical(batch_output,num_classes=7))\n",
        "\n",
        "\n",
        "test_inp,test_out = next(data_generator(test))\n",
        "\n",
        "# model.predict()"
      ],
      "execution_count": null,
      "outputs": []
    },
    {
      "cell_type": "code",
      "metadata": {
        "execution": {
          "iopub.execute_input": "2021-02-19T10:52:09.539926Z",
          "iopub.status.busy": "2021-02-19T10:52:09.539070Z",
          "iopub.status.idle": "2021-02-19T10:52:09.542676Z",
          "shell.execute_reply": "2021-02-19T10:52:09.543343Z"
        },
        "papermill": {
          "duration": 2.625714,
          "end_time": "2021-02-19T10:52:09.543527",
          "exception": false,
          "start_time": "2021-02-19T10:52:06.917813",
          "status": "completed"
        },
        "tags": [],
        "id": "y4Vg5I1CUF1j",
        "outputId": "1cb8a946-0f49-4b3c-9ee5-080fc8662f43"
      },
      "source": [
        "test_inp.shape"
      ],
      "execution_count": null,
      "outputs": [
        {
          "output_type": "execute_result",
          "data": {
            "text/plain": [
              "(96, 96, 64, 64, 3)"
            ]
          },
          "metadata": {
            "tags": []
          },
          "execution_count": 15
        }
      ]
    },
    {
      "cell_type": "code",
      "metadata": {
        "execution": {
          "iopub.execute_input": "2021-02-19T10:52:14.455034Z",
          "iopub.status.busy": "2021-02-19T10:52:14.454061Z",
          "iopub.status.idle": "2021-02-19T10:52:16.074752Z",
          "shell.execute_reply": "2021-02-19T10:52:16.072209Z"
        },
        "papermill": {
          "duration": 4.064878,
          "end_time": "2021-02-19T10:52:16.074940",
          "exception": false,
          "start_time": "2021-02-19T10:52:12.010062",
          "status": "completed"
        },
        "tags": [],
        "id": "zGN4mfdpUF1k"
      },
      "source": [
        "predicted = model.predict(test_inp)\n",
        "\n",
        "y_pred = [np.argmax(i) for i in predicted]\n",
        "y_true = [np.argmax(i) for i in test_out]\n",
        "\n"
      ],
      "execution_count": null,
      "outputs": []
    },
    {
      "cell_type": "code",
      "metadata": {
        "execution": {
          "iopub.execute_input": "2021-02-19T10:52:21.426249Z",
          "iopub.status.busy": "2021-02-19T10:52:21.425525Z",
          "iopub.status.idle": "2021-02-19T10:52:21.428409Z",
          "shell.execute_reply": "2021-02-19T10:52:21.428878Z"
        },
        "papermill": {
          "duration": 2.464531,
          "end_time": "2021-02-19T10:52:21.429029",
          "exception": false,
          "start_time": "2021-02-19T10:52:18.964498",
          "status": "completed"
        },
        "tags": [],
        "id": "O6U-eUsIUF1l",
        "outputId": "a6c14f20-8a17-40ee-e535-6f3e880f3a3a"
      },
      "source": [
        "from sklearn.metrics import confusion_matrix\n",
        "confusion_matrix(y_true, y_pred)"
      ],
      "execution_count": null,
      "outputs": [
        {
          "output_type": "execute_result",
          "data": {
            "text/plain": [
              "array([[12,  0,  0,  0,  0,  0,  0],\n",
              "       [ 0, 11,  0,  0,  0,  1,  0],\n",
              "       [ 0,  0, 24,  0,  0,  0,  0],\n",
              "       [ 0,  0,  0, 12,  0,  0,  0],\n",
              "       [ 0,  0,  0,  0, 12,  0,  0],\n",
              "       [ 0,  0,  0,  0,  0, 12,  0],\n",
              "       [ 0,  1,  0,  0,  1,  0, 10]])"
            ]
          },
          "metadata": {
            "tags": []
          },
          "execution_count": 17
        }
      ]
    },
    {
      "cell_type": "code",
      "metadata": {
        "execution": {
          "iopub.execute_input": "2021-02-19T10:52:26.261874Z",
          "iopub.status.busy": "2021-02-19T10:52:26.260996Z",
          "iopub.status.idle": "2021-02-19T10:52:26.264592Z",
          "shell.execute_reply": "2021-02-19T10:52:26.265097Z"
        },
        "papermill": {
          "duration": 2.420653,
          "end_time": "2021-02-19T10:52:26.265249",
          "exception": false,
          "start_time": "2021-02-19T10:52:23.844596",
          "status": "completed"
        },
        "tags": [],
        "id": "cNudd2X0UF1l",
        "outputId": "3bc53841-f9ca-4ec5-e369-3d69e7d4c73e"
      },
      "source": [
        "(confusion_matrix(y_true, y_pred,normalize='true')*100).astype('int')"
      ],
      "execution_count": null,
      "outputs": [
        {
          "output_type": "execute_result",
          "data": {
            "text/plain": [
              "array([[100,   0,   0,   0,   0,   0,   0],\n",
              "       [  0,  91,   0,   0,   0,   8,   0],\n",
              "       [  0,   0, 100,   0,   0,   0,   0],\n",
              "       [  0,   0,   0, 100,   0,   0,   0],\n",
              "       [  0,   0,   0,   0, 100,   0,   0],\n",
              "       [  0,   0,   0,   0,   0, 100,   0],\n",
              "       [  0,   8,   0,   0,   8,   0,  83]])"
            ]
          },
          "metadata": {
            "tags": []
          },
          "execution_count": 18
        }
      ]
    },
    {
      "cell_type": "code",
      "metadata": {
        "execution": {
          "iopub.execute_input": "2021-02-19T10:52:31.512874Z",
          "iopub.status.busy": "2021-02-19T10:52:31.509514Z",
          "iopub.status.idle": "2021-02-19T10:52:31.513617Z",
          "shell.execute_reply": "2021-02-19T10:52:31.514201Z"
        },
        "papermill": {
          "duration": 2.843138,
          "end_time": "2021-02-19T10:52:31.514386",
          "exception": false,
          "start_time": "2021-02-19T10:52:28.671248",
          "status": "completed"
        },
        "tags": [],
        "id": "k3ZNlkLYUF1m"
      },
      "source": [
        "target_names = 'a d n h f su sa'.split(' ')"
      ],
      "execution_count": null,
      "outputs": []
    },
    {
      "cell_type": "code",
      "metadata": {
        "execution": {
          "iopub.execute_input": "2021-02-19T10:52:36.350986Z",
          "iopub.status.busy": "2021-02-19T10:52:36.350276Z",
          "iopub.status.idle": "2021-02-19T10:52:37.005482Z",
          "shell.execute_reply": "2021-02-19T10:52:37.004491Z"
        },
        "papermill": {
          "duration": 3.087065,
          "end_time": "2021-02-19T10:52:37.005619",
          "exception": false,
          "start_time": "2021-02-19T10:52:33.918554",
          "status": "completed"
        },
        "tags": [],
        "id": "gVFGa03kUF1m",
        "outputId": "ec79080d-64ea-4894-83b6-badac43bc6ca"
      },
      "source": [
        "import seaborn as sn\n",
        "import pandas as pd\n",
        "import matplotlib.pyplot as plt\n",
        "\n",
        "df_cm = pd.DataFrame(confusion_matrix(y_true, y_pred), index = [i for i in target_names],\n",
        "                  columns = [i for i in target_names])\n",
        "plt.figure(figsize = (10,7))\n",
        "sn.heatmap(df_cm, annot=True,cmap='Blues')"
      ],
      "execution_count": null,
      "outputs": [
        {
          "output_type": "execute_result",
          "data": {
            "text/plain": [
              "<AxesSubplot:>"
            ]
          },
          "metadata": {
            "tags": []
          },
          "execution_count": 20
        },
        {
          "output_type": "display_data",
          "data": {
            "image/png": "[encoded data removed]",
            "text/plain": [
              "<Figure size 720x504 with 2 Axes>"
            ]
          },
          "metadata": {
            "tags": [],
            "needs_background": "light"
          }
        }
      ]
    },
    {
      "cell_type": "code",
      "metadata": {
        "execution": {
          "iopub.execute_input": "2021-02-19T10:52:42.146947Z",
          "iopub.status.busy": "2021-02-19T10:52:42.145896Z",
          "iopub.status.idle": "2021-02-19T10:52:42.681185Z",
          "shell.execute_reply": "2021-02-19T10:52:42.682104Z"
        },
        "papermill": {
          "duration": 3.269226,
          "end_time": "2021-02-19T10:52:42.682315",
          "exception": false,
          "start_time": "2021-02-19T10:52:39.413089",
          "status": "completed"
        },
        "tags": [],
        "id": "e9zmM2MaUF1m",
        "outputId": "3dbe60dd-665c-4e7f-ae9e-f6689862f712"
      },
      "source": [
        "df_cm = pd.DataFrame((confusion_matrix(y_true, y_pred,normalize='true')*100).astype('int')\n",
        ", index = [i for i in target_names],\n",
        "                  columns = [i for i in target_names])\n",
        "plt.figure(figsize = (10,7))\n",
        "sn.heatmap(df_cm, annot=True, fmt='g',cmap= 'Blues')"
      ],
      "execution_count": null,
      "outputs": [
        {
          "output_type": "execute_result",
          "data": {
            "text/plain": [
              "<AxesSubplot:>"
            ]
          },
          "metadata": {
            "tags": []
          },
          "execution_count": 21
        },
        {
          "output_type": "display_data",
          "data": {
            "image/png": "[encoded data removed]",
            "text/plain": [
              "<Figure size 720x504 with 2 Axes>"
            ]
          },
          "metadata": {
            "tags": [],
            "needs_background": "light"
          }
        }
      ]
    },
    {
      "cell_type": "code",
      "metadata": {
        "execution": {
          "iopub.execute_input": "2021-02-19T10:52:47.644335Z",
          "iopub.status.busy": "2021-02-19T10:52:47.643440Z",
          "iopub.status.idle": "2021-02-19T10:52:47.659944Z",
          "shell.execute_reply": "2021-02-19T10:52:47.659299Z"
        },
        "papermill": {
          "duration": 2.438239,
          "end_time": "2021-02-19T10:52:47.660147",
          "exception": false,
          "start_time": "2021-02-19T10:52:45.221908",
          "status": "completed"
        },
        "tags": [],
        "id": "WAUmSWZVUF1n",
        "outputId": "ef9b99f4-f45c-498c-e518-cbb5d6597631"
      },
      "source": [
        "from sklearn.metrics import classification_report\n",
        "\n",
        "\n",
        "print(classification_report(y_true, y_pred, target_names=target_names))"
      ],
      "execution_count": null,
      "outputs": [
        {
          "output_type": "stream",
          "text": [
            "              precision    recall  f1-score   support\n",
            "\n",
            "           a       1.00      1.00      1.00        12\n",
            "           d       0.92      0.92      0.92        12\n",
            "           n       1.00      1.00      1.00        24\n",
            "           h       1.00      1.00      1.00        12\n",
            "           f       0.92      1.00      0.96        12\n",
            "          su       0.92      1.00      0.96        12\n",
            "          sa       1.00      0.83      0.91        12\n",
            "\n",
            "    accuracy                           0.97        96\n",
            "   macro avg       0.97      0.96      0.96        96\n",
            "weighted avg       0.97      0.97      0.97        96\n",
            "\n"
          ],
          "name": "stdout"
        }
      ]
    },
    {
      "cell_type": "code",
      "metadata": {
        "execution": {
          "iopub.execute_input": "2021-02-19T10:52:53.076180Z",
          "iopub.status.busy": "2021-02-19T10:52:53.075290Z",
          "iopub.status.idle": "2021-02-19T10:52:53.078610Z",
          "shell.execute_reply": "2021-02-19T10:52:53.079165Z"
        },
        "papermill": {
          "duration": 2.624887,
          "end_time": "2021-02-19T10:52:53.079323",
          "exception": false,
          "start_time": "2021-02-19T10:52:50.454436",
          "status": "completed"
        },
        "tags": [],
        "id": "X6X7A-I8UF1n",
        "outputId": "8daa442f-f8fb-44b8-d9d2-68aa5711dfab"
      },
      "source": [
        "from sklearn.metrics import accuracy_score\n",
        "accuracy_score(y_true, y_pred)"
      ],
      "execution_count": null,
      "outputs": [
        {
          "output_type": "execute_result",
          "data": {
            "text/plain": [
              "0.96875"
            ]
          },
          "metadata": {
            "tags": []
          },
          "execution_count": 23
        }
      ]
    },
    {
      "cell_type": "code",
      "metadata": {
        "execution": {
          "iopub.execute_input": "2021-02-19T10:52:58.000288Z",
          "iopub.status.busy": "2021-02-19T10:52:57.999375Z",
          "iopub.status.idle": "2021-02-19T10:52:58.356314Z",
          "shell.execute_reply": "2021-02-19T10:52:58.356835Z"
        },
        "papermill": {
          "duration": 2.842607,
          "end_time": "2021-02-19T10:52:58.357009",
          "exception": false,
          "start_time": "2021-02-19T10:52:55.514402",
          "status": "completed"
        },
        "tags": [],
        "id": "nrO-A0xbUF1o",
        "outputId": "ddb1da2b-1a84-4536-892c-bbf75d6f29ef"
      },
      "source": [
        "import matplotlib.pyplot as plt\n",
        "\n",
        "\n",
        "plt.plot(history.history['acc'])\n",
        "plt.plot(history.history['val_acc'])\n",
        "plt.title('model accuracy')\n",
        "plt.ylabel('accuracy')\n",
        "plt.xlabel('epoch')\n",
        "plt.legend(['train', 'validation'], loc='upper left')\n",
        "plt.show()\n",
        "# \"Loss\"\n",
        "plt.plot(history.history['loss'])\n",
        "plt.plot(history.history['val_loss'])\n",
        "plt.title('model loss')\n",
        "plt.ylabel('loss')\n",
        "plt.xlabel('epoch')\n",
        "plt.legend(['train', 'validation'], loc='upper left')\n",
        "plt.show()"
      ],
      "execution_count": null,
      "outputs": [
        {
          "output_type": "display_data",
          "data": {
            "image/png": "[encoded data removed]",
            "text/plain": [
              "<Figure size 432x288 with 1 Axes>"
            ]
          },
          "metadata": {
            "tags": [],
            "needs_background": "light"
          }
        },
        {
          "output_type": "display_data",
          "data": {
            "image/png": "[encoded data removed]",
            "text/plain": [
              "<Figure size 432x288 with 1 Axes>"
            ]
          },
          "metadata": {
            "tags": [],
            "needs_background": "light"
          }
        }
      ]
    },
    {
      "cell_type": "code",
      "metadata": {
        "execution": {
          "iopub.execute_input": "2021-02-19T10:53:03.421306Z",
          "iopub.status.busy": "2021-02-19T10:53:03.420520Z",
          "iopub.status.idle": "2021-02-19T10:53:03.423975Z",
          "shell.execute_reply": "2021-02-19T10:53:03.423320Z"
        },
        "papermill": {
          "duration": 2.629227,
          "end_time": "2021-02-19T10:53:03.424133",
          "exception": false,
          "start_time": "2021-02-19T10:53:00.794906",
          "status": "completed"
        },
        "tags": [],
        "id": "eoUcqgHMUF1o"
      },
      "source": [
        "import pickle\n",
        "filename = 'filenames.pkl'\n",
        "outfile = open(filename,'wb')\n",
        "\n",
        "pickle.dump([train,test,val],outfile)\n",
        "outfile.close()"
      ],
      "execution_count": null,
      "outputs": []
    }
  ]
}